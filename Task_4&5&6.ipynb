{
  "nbformat": 4,
  "nbformat_minor": 0,
  "metadata": {
    "colab": {
      "provenance": [],
      "authorship_tag": "ABX9TyPezK/BhSzWxA+gozcedLhI"
    },
    "kernelspec": {
      "name": "python3",
      "display_name": "Python 3"
    },
    "language_info": {
      "name": "python"
    }
  },
  "cells": [
    {
      "cell_type": "code",
      "execution_count": null,
      "metadata": {
        "colab": {
          "base_uri": "https://localhost:8080/",
          "height": 73
        },
        "id": "7JcQI80caQQ4",
        "outputId": "54c7cee5-fde0-45cc-c5cb-8320ee90739d"
      },
      "outputs": [
        {
          "output_type": "display_data",
          "data": {
            "text/plain": [
              "<IPython.core.display.HTML object>"
            ],
            "text/html": [
              "\n",
              "     <input type=\"file\" id=\"files-cf152bb7-0047-4dfa-9eb4-a5818ff4f026\" name=\"files[]\" multiple disabled\n",
              "        style=\"border:none\" />\n",
              "     <output id=\"result-cf152bb7-0047-4dfa-9eb4-a5818ff4f026\">\n",
              "      Upload widget is only available when the cell has been executed in the\n",
              "      current browser session. Please rerun this cell to enable.\n",
              "      </output>\n",
              "      <script>// Copyright 2017 Google LLC\n",
              "//\n",
              "// Licensed under the Apache License, Version 2.0 (the \"License\");\n",
              "// you may not use this file except in compliance with the License.\n",
              "// You may obtain a copy of the License at\n",
              "//\n",
              "//      http://www.apache.org/licenses/LICENSE-2.0\n",
              "//\n",
              "// Unless required by applicable law or agreed to in writing, software\n",
              "// distributed under the License is distributed on an \"AS IS\" BASIS,\n",
              "// WITHOUT WARRANTIES OR CONDITIONS OF ANY KIND, either express or implied.\n",
              "// See the License for the specific language governing permissions and\n",
              "// limitations under the License.\n",
              "\n",
              "/**\n",
              " * @fileoverview Helpers for google.colab Python module.\n",
              " */\n",
              "(function(scope) {\n",
              "function span(text, styleAttributes = {}) {\n",
              "  const element = document.createElement('span');\n",
              "  element.textContent = text;\n",
              "  for (const key of Object.keys(styleAttributes)) {\n",
              "    element.style[key] = styleAttributes[key];\n",
              "  }\n",
              "  return element;\n",
              "}\n",
              "\n",
              "// Max number of bytes which will be uploaded at a time.\n",
              "const MAX_PAYLOAD_SIZE = 100 * 1024;\n",
              "\n",
              "function _uploadFiles(inputId, outputId) {\n",
              "  const steps = uploadFilesStep(inputId, outputId);\n",
              "  const outputElement = document.getElementById(outputId);\n",
              "  // Cache steps on the outputElement to make it available for the next call\n",
              "  // to uploadFilesContinue from Python.\n",
              "  outputElement.steps = steps;\n",
              "\n",
              "  return _uploadFilesContinue(outputId);\n",
              "}\n",
              "\n",
              "// This is roughly an async generator (not supported in the browser yet),\n",
              "// where there are multiple asynchronous steps and the Python side is going\n",
              "// to poll for completion of each step.\n",
              "// This uses a Promise to block the python side on completion of each step,\n",
              "// then passes the result of the previous step as the input to the next step.\n",
              "function _uploadFilesContinue(outputId) {\n",
              "  const outputElement = document.getElementById(outputId);\n",
              "  const steps = outputElement.steps;\n",
              "\n",
              "  const next = steps.next(outputElement.lastPromiseValue);\n",
              "  return Promise.resolve(next.value.promise).then((value) => {\n",
              "    // Cache the last promise value to make it available to the next\n",
              "    // step of the generator.\n",
              "    outputElement.lastPromiseValue = value;\n",
              "    return next.value.response;\n",
              "  });\n",
              "}\n",
              "\n",
              "/**\n",
              " * Generator function which is called between each async step of the upload\n",
              " * process.\n",
              " * @param {string} inputId Element ID of the input file picker element.\n",
              " * @param {string} outputId Element ID of the output display.\n",
              " * @return {!Iterable<!Object>} Iterable of next steps.\n",
              " */\n",
              "function* uploadFilesStep(inputId, outputId) {\n",
              "  const inputElement = document.getElementById(inputId);\n",
              "  inputElement.disabled = false;\n",
              "\n",
              "  const outputElement = document.getElementById(outputId);\n",
              "  outputElement.innerHTML = '';\n",
              "\n",
              "  const pickedPromise = new Promise((resolve) => {\n",
              "    inputElement.addEventListener('change', (e) => {\n",
              "      resolve(e.target.files);\n",
              "    });\n",
              "  });\n",
              "\n",
              "  const cancel = document.createElement('button');\n",
              "  inputElement.parentElement.appendChild(cancel);\n",
              "  cancel.textContent = 'Cancel upload';\n",
              "  const cancelPromise = new Promise((resolve) => {\n",
              "    cancel.onclick = () => {\n",
              "      resolve(null);\n",
              "    };\n",
              "  });\n",
              "\n",
              "  // Wait for the user to pick the files.\n",
              "  const files = yield {\n",
              "    promise: Promise.race([pickedPromise, cancelPromise]),\n",
              "    response: {\n",
              "      action: 'starting',\n",
              "    }\n",
              "  };\n",
              "\n",
              "  cancel.remove();\n",
              "\n",
              "  // Disable the input element since further picks are not allowed.\n",
              "  inputElement.disabled = true;\n",
              "\n",
              "  if (!files) {\n",
              "    return {\n",
              "      response: {\n",
              "        action: 'complete',\n",
              "      }\n",
              "    };\n",
              "  }\n",
              "\n",
              "  for (const file of files) {\n",
              "    const li = document.createElement('li');\n",
              "    li.append(span(file.name, {fontWeight: 'bold'}));\n",
              "    li.append(span(\n",
              "        `(${file.type || 'n/a'}) - ${file.size} bytes, ` +\n",
              "        `last modified: ${\n",
              "            file.lastModifiedDate ? file.lastModifiedDate.toLocaleDateString() :\n",
              "                                    'n/a'} - `));\n",
              "    const percent = span('0% done');\n",
              "    li.appendChild(percent);\n",
              "\n",
              "    outputElement.appendChild(li);\n",
              "\n",
              "    const fileDataPromise = new Promise((resolve) => {\n",
              "      const reader = new FileReader();\n",
              "      reader.onload = (e) => {\n",
              "        resolve(e.target.result);\n",
              "      };\n",
              "      reader.readAsArrayBuffer(file);\n",
              "    });\n",
              "    // Wait for the data to be ready.\n",
              "    let fileData = yield {\n",
              "      promise: fileDataPromise,\n",
              "      response: {\n",
              "        action: 'continue',\n",
              "      }\n",
              "    };\n",
              "\n",
              "    // Use a chunked sending to avoid message size limits. See b/62115660.\n",
              "    let position = 0;\n",
              "    do {\n",
              "      const length = Math.min(fileData.byteLength - position, MAX_PAYLOAD_SIZE);\n",
              "      const chunk = new Uint8Array(fileData, position, length);\n",
              "      position += length;\n",
              "\n",
              "      const base64 = btoa(String.fromCharCode.apply(null, chunk));\n",
              "      yield {\n",
              "        response: {\n",
              "          action: 'append',\n",
              "          file: file.name,\n",
              "          data: base64,\n",
              "        },\n",
              "      };\n",
              "\n",
              "      let percentDone = fileData.byteLength === 0 ?\n",
              "          100 :\n",
              "          Math.round((position / fileData.byteLength) * 100);\n",
              "      percent.textContent = `${percentDone}% done`;\n",
              "\n",
              "    } while (position < fileData.byteLength);\n",
              "  }\n",
              "\n",
              "  // All done.\n",
              "  yield {\n",
              "    response: {\n",
              "      action: 'complete',\n",
              "    }\n",
              "  };\n",
              "}\n",
              "\n",
              "scope.google = scope.google || {};\n",
              "scope.google.colab = scope.google.colab || {};\n",
              "scope.google.colab._files = {\n",
              "  _uploadFiles,\n",
              "  _uploadFilesContinue,\n",
              "};\n",
              "})(self);\n",
              "</script> "
            ]
          },
          "metadata": {}
        },
        {
          "output_type": "stream",
          "name": "stdout",
          "text": [
            "Saving match_data.csv (2).zip to match_data.csv (2).zip\n"
          ]
        }
      ],
      "source": [
        "from google.colab import files\n",
        "uploaded = files.upload()"
      ]
    },
    {
      "cell_type": "code",
      "source": [
        "from google.colab import files\n",
        "uploaded = files.upload()"
      ],
      "metadata": {
        "colab": {
          "base_uri": "https://localhost:8080/",
          "height": 73
        },
        "id": "dmSr4E8jaZef",
        "outputId": "8b551915-e983-4289-a1eb-50023011baf2"
      },
      "execution_count": null,
      "outputs": [
        {
          "output_type": "display_data",
          "data": {
            "text/plain": [
              "<IPython.core.display.HTML object>"
            ],
            "text/html": [
              "\n",
              "     <input type=\"file\" id=\"files-ef6e579c-8422-4018-b4f0-cf2a83a793b8\" name=\"files[]\" multiple disabled\n",
              "        style=\"border:none\" />\n",
              "     <output id=\"result-ef6e579c-8422-4018-b4f0-cf2a83a793b8\">\n",
              "      Upload widget is only available when the cell has been executed in the\n",
              "      current browser session. Please rerun this cell to enable.\n",
              "      </output>\n",
              "      <script>// Copyright 2017 Google LLC\n",
              "//\n",
              "// Licensed under the Apache License, Version 2.0 (the \"License\");\n",
              "// you may not use this file except in compliance with the License.\n",
              "// You may obtain a copy of the License at\n",
              "//\n",
              "//      http://www.apache.org/licenses/LICENSE-2.0\n",
              "//\n",
              "// Unless required by applicable law or agreed to in writing, software\n",
              "// distributed under the License is distributed on an \"AS IS\" BASIS,\n",
              "// WITHOUT WARRANTIES OR CONDITIONS OF ANY KIND, either express or implied.\n",
              "// See the License for the specific language governing permissions and\n",
              "// limitations under the License.\n",
              "\n",
              "/**\n",
              " * @fileoverview Helpers for google.colab Python module.\n",
              " */\n",
              "(function(scope) {\n",
              "function span(text, styleAttributes = {}) {\n",
              "  const element = document.createElement('span');\n",
              "  element.textContent = text;\n",
              "  for (const key of Object.keys(styleAttributes)) {\n",
              "    element.style[key] = styleAttributes[key];\n",
              "  }\n",
              "  return element;\n",
              "}\n",
              "\n",
              "// Max number of bytes which will be uploaded at a time.\n",
              "const MAX_PAYLOAD_SIZE = 100 * 1024;\n",
              "\n",
              "function _uploadFiles(inputId, outputId) {\n",
              "  const steps = uploadFilesStep(inputId, outputId);\n",
              "  const outputElement = document.getElementById(outputId);\n",
              "  // Cache steps on the outputElement to make it available for the next call\n",
              "  // to uploadFilesContinue from Python.\n",
              "  outputElement.steps = steps;\n",
              "\n",
              "  return _uploadFilesContinue(outputId);\n",
              "}\n",
              "\n",
              "// This is roughly an async generator (not supported in the browser yet),\n",
              "// where there are multiple asynchronous steps and the Python side is going\n",
              "// to poll for completion of each step.\n",
              "// This uses a Promise to block the python side on completion of each step,\n",
              "// then passes the result of the previous step as the input to the next step.\n",
              "function _uploadFilesContinue(outputId) {\n",
              "  const outputElement = document.getElementById(outputId);\n",
              "  const steps = outputElement.steps;\n",
              "\n",
              "  const next = steps.next(outputElement.lastPromiseValue);\n",
              "  return Promise.resolve(next.value.promise).then((value) => {\n",
              "    // Cache the last promise value to make it available to the next\n",
              "    // step of the generator.\n",
              "    outputElement.lastPromiseValue = value;\n",
              "    return next.value.response;\n",
              "  });\n",
              "}\n",
              "\n",
              "/**\n",
              " * Generator function which is called between each async step of the upload\n",
              " * process.\n",
              " * @param {string} inputId Element ID of the input file picker element.\n",
              " * @param {string} outputId Element ID of the output display.\n",
              " * @return {!Iterable<!Object>} Iterable of next steps.\n",
              " */\n",
              "function* uploadFilesStep(inputId, outputId) {\n",
              "  const inputElement = document.getElementById(inputId);\n",
              "  inputElement.disabled = false;\n",
              "\n",
              "  const outputElement = document.getElementById(outputId);\n",
              "  outputElement.innerHTML = '';\n",
              "\n",
              "  const pickedPromise = new Promise((resolve) => {\n",
              "    inputElement.addEventListener('change', (e) => {\n",
              "      resolve(e.target.files);\n",
              "    });\n",
              "  });\n",
              "\n",
              "  const cancel = document.createElement('button');\n",
              "  inputElement.parentElement.appendChild(cancel);\n",
              "  cancel.textContent = 'Cancel upload';\n",
              "  const cancelPromise = new Promise((resolve) => {\n",
              "    cancel.onclick = () => {\n",
              "      resolve(null);\n",
              "    };\n",
              "  });\n",
              "\n",
              "  // Wait for the user to pick the files.\n",
              "  const files = yield {\n",
              "    promise: Promise.race([pickedPromise, cancelPromise]),\n",
              "    response: {\n",
              "      action: 'starting',\n",
              "    }\n",
              "  };\n",
              "\n",
              "  cancel.remove();\n",
              "\n",
              "  // Disable the input element since further picks are not allowed.\n",
              "  inputElement.disabled = true;\n",
              "\n",
              "  if (!files) {\n",
              "    return {\n",
              "      response: {\n",
              "        action: 'complete',\n",
              "      }\n",
              "    };\n",
              "  }\n",
              "\n",
              "  for (const file of files) {\n",
              "    const li = document.createElement('li');\n",
              "    li.append(span(file.name, {fontWeight: 'bold'}));\n",
              "    li.append(span(\n",
              "        `(${file.type || 'n/a'}) - ${file.size} bytes, ` +\n",
              "        `last modified: ${\n",
              "            file.lastModifiedDate ? file.lastModifiedDate.toLocaleDateString() :\n",
              "                                    'n/a'} - `));\n",
              "    const percent = span('0% done');\n",
              "    li.appendChild(percent);\n",
              "\n",
              "    outputElement.appendChild(li);\n",
              "\n",
              "    const fileDataPromise = new Promise((resolve) => {\n",
              "      const reader = new FileReader();\n",
              "      reader.onload = (e) => {\n",
              "        resolve(e.target.result);\n",
              "      };\n",
              "      reader.readAsArrayBuffer(file);\n",
              "    });\n",
              "    // Wait for the data to be ready.\n",
              "    let fileData = yield {\n",
              "      promise: fileDataPromise,\n",
              "      response: {\n",
              "        action: 'continue',\n",
              "      }\n",
              "    };\n",
              "\n",
              "    // Use a chunked sending to avoid message size limits. See b/62115660.\n",
              "    let position = 0;\n",
              "    do {\n",
              "      const length = Math.min(fileData.byteLength - position, MAX_PAYLOAD_SIZE);\n",
              "      const chunk = new Uint8Array(fileData, position, length);\n",
              "      position += length;\n",
              "\n",
              "      const base64 = btoa(String.fromCharCode.apply(null, chunk));\n",
              "      yield {\n",
              "        response: {\n",
              "          action: 'append',\n",
              "          file: file.name,\n",
              "          data: base64,\n",
              "        },\n",
              "      };\n",
              "\n",
              "      let percentDone = fileData.byteLength === 0 ?\n",
              "          100 :\n",
              "          Math.round((position / fileData.byteLength) * 100);\n",
              "      percent.textContent = `${percentDone}% done`;\n",
              "\n",
              "    } while (position < fileData.byteLength);\n",
              "  }\n",
              "\n",
              "  // All done.\n",
              "  yield {\n",
              "    response: {\n",
              "      action: 'complete',\n",
              "    }\n",
              "  };\n",
              "}\n",
              "\n",
              "scope.google = scope.google || {};\n",
              "scope.google.colab = scope.google.colab || {};\n",
              "scope.google.colab._files = {\n",
              "  _uploadFiles,\n",
              "  _uploadFilesContinue,\n",
              "};\n",
              "})(self);\n",
              "</script> "
            ]
          },
          "metadata": {}
        },
        {
          "output_type": "stream",
          "name": "stdout",
          "text": [
            "Saving deliveries.csv (1).zip to deliveries.csv (1).zip\n"
          ]
        }
      ]
    },
    {
      "cell_type": "code",
      "source": [
        "import numpy as np\n",
        "import pandas as pd\n",
        "import matplotlib.pyplot as plt\n",
        "from sklearn.preprocessing import LabelEncoder\n",
        "import zipfile\n",
        "from sklearn.model_selection import train_test_split\n",
        "from sklearn.preprocessing import LabelEncoder"
      ],
      "metadata": {
        "id": "TiWIkYD0alxp"
      },
      "execution_count": 1,
      "outputs": []
    },
    {
      "cell_type": "code",
      "source": [
        "# Load matches dataset\n",
        "matches_df = pd.read_csv('/content/matches (2).csv')"
      ],
      "metadata": {
        "id": "GheUS2Drapoa"
      },
      "execution_count": 2,
      "outputs": []
    },
    {
      "cell_type": "code",
      "source": [
        "# Unzip deliveries dataset and load it\n",
        "with zipfile.ZipFile('/content/deliveries.csv (1).zip', 'r') as zip_ref:\n",
        "    zip_ref.extractall()  # Extracts the files in the same directory\n"
      ],
      "metadata": {
        "id": "lG5wURNQbWeo"
      },
      "execution_count": 5,
      "outputs": []
    },
    {
      "cell_type": "code",
      "source": [
        "# Now read the extracted deliveries.csv\n",
        "deliveries_df = pd.read_csv('/content/deliveries.csv')\n"
      ],
      "metadata": {
        "id": "SETP5HoYbbyn"
      },
      "execution_count": 6,
      "outputs": []
    },
    {
      "cell_type": "code",
      "source": [
        "# Display first few rows to confirm loading\n",
        "print(\"Matches Data:\")\n",
        "print(matches_df.head())\n",
        "print(\"\\nDeliveries Data:\")\n",
        "print(deliveries_df.head())"
      ],
      "metadata": {
        "colab": {
          "base_uri": "https://localhost:8080/"
        },
        "id": "omoOpQZhbk-f",
        "outputId": "189047b0-ef62-4951-bcd1-115664e1fa13"
      },
      "execution_count": 7,
      "outputs": [
        {
          "output_type": "stream",
          "name": "stdout",
          "text": [
            "Matches Data:\n",
            "       id   season        city        date match_type player_of_match  \\\n",
            "0  335982  2007/08   Bangalore  2008-04-18     League     BB McCullum   \n",
            "1  335983  2007/08  Chandigarh  2008-04-19     League      MEK Hussey   \n",
            "2  335984  2007/08       Delhi  2008-04-19     League     MF Maharoof   \n",
            "3  335985  2007/08      Mumbai  2008-04-20     League      MV Boucher   \n",
            "4  335986  2007/08     Kolkata  2008-04-20     League       DJ Hussey   \n",
            "\n",
            "                                        venue                        team1  \\\n",
            "0                       M Chinnaswamy Stadium  Royal Challengers Bangalore   \n",
            "1  Punjab Cricket Association Stadium, Mohali              Kings XI Punjab   \n",
            "2                            Feroz Shah Kotla             Delhi Daredevils   \n",
            "3                            Wankhede Stadium               Mumbai Indians   \n",
            "4                                Eden Gardens        Kolkata Knight Riders   \n",
            "\n",
            "                         team2                  toss_winner toss_decision  \\\n",
            "0        Kolkata Knight Riders  Royal Challengers Bangalore         field   \n",
            "1          Chennai Super Kings          Chennai Super Kings           bat   \n",
            "2             Rajasthan Royals             Rajasthan Royals           bat   \n",
            "3  Royal Challengers Bangalore               Mumbai Indians           bat   \n",
            "4              Deccan Chargers              Deccan Chargers           bat   \n",
            "\n",
            "                        winner   result  result_margin  target_runs  \\\n",
            "0        Kolkata Knight Riders     runs          140.0        223.0   \n",
            "1          Chennai Super Kings     runs           33.0        241.0   \n",
            "2             Delhi Daredevils  wickets            9.0        130.0   \n",
            "3  Royal Challengers Bangalore  wickets            5.0        166.0   \n",
            "4        Kolkata Knight Riders  wickets            5.0        111.0   \n",
            "\n",
            "   target_overs super_over method    umpire1         umpire2  \n",
            "0          20.0          N    NaN  Asad Rauf     RE Koertzen  \n",
            "1          20.0          N    NaN  MR Benson      SL Shastri  \n",
            "2          20.0          N    NaN  Aleem Dar  GA Pratapkumar  \n",
            "3          20.0          N    NaN   SJ Davis       DJ Harper  \n",
            "4          20.0          N    NaN  BF Bowden     K Hariharan  \n",
            "\n",
            "Deliveries Data:\n",
            "   match_id  inning           batting_team                 bowling_team  over  \\\n",
            "0    335982       1  Kolkata Knight Riders  Royal Challengers Bangalore     0   \n",
            "1    335982       1  Kolkata Knight Riders  Royal Challengers Bangalore     0   \n",
            "2    335982       1  Kolkata Knight Riders  Royal Challengers Bangalore     0   \n",
            "3    335982       1  Kolkata Knight Riders  Royal Challengers Bangalore     0   \n",
            "4    335982       1  Kolkata Knight Riders  Royal Challengers Bangalore     0   \n",
            "\n",
            "   ball       batter   bowler  non_striker  batsman_runs  extra_runs  \\\n",
            "0     1   SC Ganguly  P Kumar  BB McCullum             0           1   \n",
            "1     2  BB McCullum  P Kumar   SC Ganguly             0           0   \n",
            "2     3  BB McCullum  P Kumar   SC Ganguly             0           1   \n",
            "3     4  BB McCullum  P Kumar   SC Ganguly             0           0   \n",
            "4     5  BB McCullum  P Kumar   SC Ganguly             0           0   \n",
            "\n",
            "   total_runs extras_type  is_wicket player_dismissed dismissal_kind fielder  \n",
            "0           1     legbyes          0              NaN            NaN     NaN  \n",
            "1           0         NaN          0              NaN            NaN     NaN  \n",
            "2           1       wides          0              NaN            NaN     NaN  \n",
            "3           0         NaN          0              NaN            NaN     NaN  \n",
            "4           0         NaN          0              NaN            NaN     NaN  \n"
          ]
        }
      ]
    },
    {
      "cell_type": "code",
      "source": [
        "# Extract relevant columns from matches dataset\n",
        "matches_df_selected = matches_df[[\n",
        "    'id', 'date', 'team1', 'team2', 'toss_winner', 'toss_decision',\n",
        "    'winner', 'result', 'result_margin'\n",
        "]]\n",
        "\n",
        "# Extract relevant columns from deliveries dataset\n",
        "deliveries_selected = deliveries_df[[\n",
        "    'match_id', 'inning', 'batting_team', 'bowling_team', 'over', 'ball',\n",
        "    'total_runs', 'is_wicket'\n",
        "]]\n",
        "\n",
        "# Merge datasets on match ID\n",
        "merged_df = deliveries_selected.merge(matches_df_selected, left_on='match_id', right_on='id', how='left')\n",
        "merged_df.drop(columns=['id'], inplace=True)\n",
        "\n",
        "# Create new features\n",
        "merged_df['cumulative_runs'] = merged_df.groupby(['match_id', 'inning'])['total_runs'].cumsum()\n",
        "merged_df['cumulative_wickets'] = merged_df.groupby(['match_id', 'inning'])['is_wicket'].cumsum()\n",
        "merged_df['overs_completed'] = merged_df['over'] + (merged_df['ball'] / 6)\n",
        "merged_df['current_run_rate'] = merged_df['cumulative_runs'] / merged_df['overs_completed']"
      ],
      "metadata": {
        "id": "p5aN56KYbmUS"
      },
      "execution_count": 8,
      "outputs": []
    },
    {
      "cell_type": "code",
      "source": [
        "# ---- Calculate Required Run Rate (RRR) ----\n",
        "# Step 1: Get the target runs (1st innings total + 1)\n",
        "target_runs = merged_df[merged_df['inning'] == 1].groupby('match_id')['cumulative_runs'].max() + 1\n",
        "target_runs = target_runs.rename('target_runs')\n",
        "\n",
        "# Step 2: Merge target runs into 2nd innings data\n",
        "merged_df = merged_df.merge(target_runs, on='match_id', how='left')\n",
        "\n",
        "# Step 3: Calculate remaining overs (assuming T20 format with 20 overs)\n",
        "merged_df['remaining_overs'] = 20 - merged_df['overs_completed']\n",
        "\n",
        "# Step 4: Calculate RRR\n",
        "merged_df['required_run_rate'] = (merged_df['target_runs'] - merged_df['cumulative_runs']) / merged_df['remaining_overs']"
      ],
      "metadata": {
        "id": "GPaZT1jGbrvB"
      },
      "execution_count": 9,
      "outputs": []
    },
    {
      "cell_type": "code",
      "source": [
        "# ---- Display the first rows to confirm changes ----\n",
        "print(\"\\nFirst 5 rows of the dataset with Required Run Rate:\")\n",
        "print(merged_df.head())"
      ],
      "metadata": {
        "colab": {
          "base_uri": "https://localhost:8080/"
        },
        "id": "3_eNVtg6bvN5",
        "outputId": "83d6fcb1-5754-42b3-be13-a44211514c58"
      },
      "execution_count": 10,
      "outputs": [
        {
          "output_type": "stream",
          "name": "stdout",
          "text": [
            "\n",
            "First 5 rows of the dataset with Required Run Rate:\n",
            "   match_id  inning           batting_team                 bowling_team  over  \\\n",
            "0    335982       1  Kolkata Knight Riders  Royal Challengers Bangalore     0   \n",
            "1    335982       1  Kolkata Knight Riders  Royal Challengers Bangalore     0   \n",
            "2    335982       1  Kolkata Knight Riders  Royal Challengers Bangalore     0   \n",
            "3    335982       1  Kolkata Knight Riders  Royal Challengers Bangalore     0   \n",
            "4    335982       1  Kolkata Knight Riders  Royal Challengers Bangalore     0   \n",
            "\n",
            "   ball  total_runs  is_wicket        date                        team1  ...  \\\n",
            "0     1           1          0  2008-04-18  Royal Challengers Bangalore  ...   \n",
            "1     2           0          0  2008-04-18  Royal Challengers Bangalore  ...   \n",
            "2     3           1          0  2008-04-18  Royal Challengers Bangalore  ...   \n",
            "3     4           0          0  2008-04-18  Royal Challengers Bangalore  ...   \n",
            "4     5           0          0  2008-04-18  Royal Challengers Bangalore  ...   \n",
            "\n",
            "                  winner result result_margin cumulative_runs  \\\n",
            "0  Kolkata Knight Riders   runs         140.0               1   \n",
            "1  Kolkata Knight Riders   runs         140.0               1   \n",
            "2  Kolkata Knight Riders   runs         140.0               2   \n",
            "3  Kolkata Knight Riders   runs         140.0               2   \n",
            "4  Kolkata Knight Riders   runs         140.0               2   \n",
            "\n",
            "  cumulative_wickets  overs_completed  current_run_rate  target_runs  \\\n",
            "0                  0         0.166667               6.0          223   \n",
            "1                  0         0.333333               3.0          223   \n",
            "2                  0         0.500000               4.0          223   \n",
            "3                  0         0.666667               3.0          223   \n",
            "4                  0         0.833333               2.4          223   \n",
            "\n",
            "   remaining_overs  required_run_rate  \n",
            "0        19.833333          11.193277  \n",
            "1        19.666667          11.288136  \n",
            "2        19.500000          11.333333  \n",
            "3        19.333333          11.431034  \n",
            "4        19.166667          11.530435  \n",
            "\n",
            "[5 rows x 23 columns]\n"
          ]
        }
      ]
    },
    {
      "cell_type": "code",
      "source": [
        "# Check for null values in the merged dataset\n",
        "print(\"Missing values before preprocessing:\")\n",
        "print(merged_df.isnull().sum())\n",
        "\n",
        "# Handle missing values\n",
        "merged_df.fillna(0, inplace=True)  # Filling NaN values with 0 (modify based on your needs)\n",
        "\n",
        "# Check for duplicate records\n",
        "duplicates_count = merged_df.duplicated().sum()\n",
        "print(\"\\nDuplicate records before preprocessing:\", duplicates_count)\n",
        "\n",
        "# Remove duplicates if found\n",
        "if duplicates_count > 0:\n",
        "    merged_df.drop_duplicates(inplace=True)\n",
        "    print(\"\\nDuplicates removed!\")\n",
        "\n",
        "# Verify after preprocessing\n",
        "print(\"\\nMissing values after preprocessing:\")\n",
        "print(merged_df.isnull().sum())\n",
        "\n",
        "print(\"\\nDuplicate records after preprocessing:\", merged_df.duplicated().sum())\n",
        "\n",
        "# Display the first few rows after cleaning\n",
        "print(\"\\nCleaned dataset:\")\n",
        "print(merged_df.head())"
      ],
      "metadata": {
        "colab": {
          "base_uri": "https://localhost:8080/"
        },
        "id": "KAVkjqohbyLD",
        "outputId": "14236c89-ccbb-4f17-895c-125ce06b3b80"
      },
      "execution_count": 11,
      "outputs": [
        {
          "output_type": "stream",
          "name": "stdout",
          "text": [
            "Missing values before preprocessing:\n",
            "match_id                 0\n",
            "inning                   0\n",
            "batting_team             0\n",
            "bowling_team             0\n",
            "over                     0\n",
            "ball                     0\n",
            "total_runs               0\n",
            "is_wicket                0\n",
            "date                     0\n",
            "team1                    0\n",
            "team2                    0\n",
            "toss_winner              0\n",
            "toss_decision            0\n",
            "winner                 490\n",
            "result                   0\n",
            "result_margin         4124\n",
            "cumulative_runs          0\n",
            "cumulative_wickets       0\n",
            "overs_completed          0\n",
            "current_run_rate         0\n",
            "target_runs              0\n",
            "remaining_overs          0\n",
            "required_run_rate       16\n",
            "dtype: int64\n",
            "\n",
            "Duplicate records before preprocessing: 0\n",
            "\n",
            "Missing values after preprocessing:\n",
            "match_id              0\n",
            "inning                0\n",
            "batting_team          0\n",
            "bowling_team          0\n",
            "over                  0\n",
            "ball                  0\n",
            "total_runs            0\n",
            "is_wicket             0\n",
            "date                  0\n",
            "team1                 0\n",
            "team2                 0\n",
            "toss_winner           0\n",
            "toss_decision         0\n",
            "winner                0\n",
            "result                0\n",
            "result_margin         0\n",
            "cumulative_runs       0\n",
            "cumulative_wickets    0\n",
            "overs_completed       0\n",
            "current_run_rate      0\n",
            "target_runs           0\n",
            "remaining_overs       0\n",
            "required_run_rate     0\n",
            "dtype: int64\n",
            "\n",
            "Duplicate records after preprocessing: 0\n",
            "\n",
            "Cleaned dataset:\n",
            "   match_id  inning           batting_team                 bowling_team  over  \\\n",
            "0    335982       1  Kolkata Knight Riders  Royal Challengers Bangalore     0   \n",
            "1    335982       1  Kolkata Knight Riders  Royal Challengers Bangalore     0   \n",
            "2    335982       1  Kolkata Knight Riders  Royal Challengers Bangalore     0   \n",
            "3    335982       1  Kolkata Knight Riders  Royal Challengers Bangalore     0   \n",
            "4    335982       1  Kolkata Knight Riders  Royal Challengers Bangalore     0   \n",
            "\n",
            "   ball  total_runs  is_wicket        date                        team1  ...  \\\n",
            "0     1           1          0  2008-04-18  Royal Challengers Bangalore  ...   \n",
            "1     2           0          0  2008-04-18  Royal Challengers Bangalore  ...   \n",
            "2     3           1          0  2008-04-18  Royal Challengers Bangalore  ...   \n",
            "3     4           0          0  2008-04-18  Royal Challengers Bangalore  ...   \n",
            "4     5           0          0  2008-04-18  Royal Challengers Bangalore  ...   \n",
            "\n",
            "                  winner result result_margin cumulative_runs  \\\n",
            "0  Kolkata Knight Riders   runs         140.0               1   \n",
            "1  Kolkata Knight Riders   runs         140.0               1   \n",
            "2  Kolkata Knight Riders   runs         140.0               2   \n",
            "3  Kolkata Knight Riders   runs         140.0               2   \n",
            "4  Kolkata Knight Riders   runs         140.0               2   \n",
            "\n",
            "  cumulative_wickets  overs_completed  current_run_rate  target_runs  \\\n",
            "0                  0         0.166667               6.0          223   \n",
            "1                  0         0.333333               3.0          223   \n",
            "2                  0         0.500000               4.0          223   \n",
            "3                  0         0.666667               3.0          223   \n",
            "4                  0         0.833333               2.4          223   \n",
            "\n",
            "   remaining_overs  required_run_rate  \n",
            "0        19.833333          11.193277  \n",
            "1        19.666667          11.288136  \n",
            "2        19.500000          11.333333  \n",
            "3        19.333333          11.431034  \n",
            "4        19.166667          11.530435  \n",
            "\n",
            "[5 rows x 23 columns]\n"
          ]
        }
      ]
    },
    {
      "cell_type": "code",
      "source": [
        "print(merged_df.info())"
      ],
      "metadata": {
        "colab": {
          "base_uri": "https://localhost:8080/"
        },
        "id": "AwDeLu2Ab8oq",
        "outputId": "16027c1c-520a-4c25-afc5-1ca7307e2ab1"
      },
      "execution_count": 12,
      "outputs": [
        {
          "output_type": "stream",
          "name": "stdout",
          "text": [
            "<class 'pandas.core.frame.DataFrame'>\n",
            "RangeIndex: 260920 entries, 0 to 260919\n",
            "Data columns (total 23 columns):\n",
            " #   Column              Non-Null Count   Dtype  \n",
            "---  ------              --------------   -----  \n",
            " 0   match_id            260920 non-null  int64  \n",
            " 1   inning              260920 non-null  int64  \n",
            " 2   batting_team        260920 non-null  object \n",
            " 3   bowling_team        260920 non-null  object \n",
            " 4   over                260920 non-null  int64  \n",
            " 5   ball                260920 non-null  int64  \n",
            " 6   total_runs          260920 non-null  int64  \n",
            " 7   is_wicket           260920 non-null  int64  \n",
            " 8   date                260920 non-null  object \n",
            " 9   team1               260920 non-null  object \n",
            " 10  team2               260920 non-null  object \n",
            " 11  toss_winner         260920 non-null  object \n",
            " 12  toss_decision       260920 non-null  object \n",
            " 13  winner              260920 non-null  object \n",
            " 14  result              260920 non-null  object \n",
            " 15  result_margin       260920 non-null  float64\n",
            " 16  cumulative_runs     260920 non-null  int64  \n",
            " 17  cumulative_wickets  260920 non-null  int64  \n",
            " 18  overs_completed     260920 non-null  float64\n",
            " 19  current_run_rate    260920 non-null  float64\n",
            " 20  target_runs         260920 non-null  int64  \n",
            " 21  remaining_overs     260920 non-null  float64\n",
            " 22  required_run_rate   260920 non-null  float64\n",
            "dtypes: float64(5), int64(9), object(9)\n",
            "memory usage: 45.8+ MB\n",
            "None\n"
          ]
        }
      ]
    },
    {
      "cell_type": "code",
      "source": [
        "# Rename team1 and team2 before replacing names\n",
        "merged_df.rename(columns={'team1': 'home_team', 'team2': 'away_team'}, inplace=True)\n",
        "\n",
        "# Dictionary of old team names to new team names\n",
        "team_name_changes = {\n",
        "    'Royal Challengers Bangalore': 'Royal Challengers Bengaluru',\n",
        "    'Delhi Daredevils': 'Delhi Capitals',\n",
        "    'Rising Pune Supergiants': 'Rising Pune Supergiants'\n",
        "}\n",
        "\n",
        "# Replace team names in all relevant columns\n",
        "merged_df.replace({'batting_team': team_name_changes,\n",
        "                   'bowling_team': team_name_changes,\n",
        "                   'home_team': team_name_changes,\n",
        "                   'away_team': team_name_changes}, inplace=True)\n",
        "\n",
        "# ---- Display the first rows to confirm changes ----\n",
        "print(\"\\nUpdated Team Names in Dataset:\")\n",
        "print(merged_df[['batting_team', 'bowling_team', 'home_team', 'away_team']].drop_duplicates())\n"
      ],
      "metadata": {
        "colab": {
          "base_uri": "https://localhost:8080/"
        },
        "id": "V-4KACnQb_mp",
        "outputId": "dc00151f-0f8c-4284-f0e5-30b3bb2d8644"
      },
      "execution_count": 13,
      "outputs": [
        {
          "output_type": "stream",
          "name": "stdout",
          "text": [
            "\n",
            "Updated Team Names in Dataset:\n",
            "                       batting_team                 bowling_team  \\\n",
            "0             Kolkata Knight Riders  Royal Challengers Bengaluru   \n",
            "124     Royal Challengers Bengaluru        Kolkata Knight Riders   \n",
            "225             Chennai Super Kings              Kings XI Punjab   \n",
            "349                 Kings XI Punjab          Chennai Super Kings   \n",
            "473                Rajasthan Royals               Delhi Capitals   \n",
            "...                             ...                          ...   \n",
            "243723          Chennai Super Kings               Gujarat Titans   \n",
            "247261         Lucknow Super Giants  Royal Challengers Bengaluru   \n",
            "247387  Royal Challengers Bengaluru         Lucknow Super Giants   \n",
            "256715        Kolkata Knight Riders         Lucknow Super Giants   \n",
            "256844         Lucknow Super Giants        Kolkata Knight Riders   \n",
            "\n",
            "                          home_team                    away_team  \n",
            "0       Royal Challengers Bengaluru        Kolkata Knight Riders  \n",
            "124     Royal Challengers Bengaluru        Kolkata Knight Riders  \n",
            "225                 Kings XI Punjab          Chennai Super Kings  \n",
            "349                 Kings XI Punjab          Chennai Super Kings  \n",
            "473                  Delhi Capitals             Rajasthan Royals  \n",
            "...                             ...                          ...  \n",
            "243723               Gujarat Titans          Chennai Super Kings  \n",
            "247261         Lucknow Super Giants  Royal Challengers Bengaluru  \n",
            "247387         Lucknow Super Giants  Royal Challengers Bengaluru  \n",
            "256715        Kolkata Knight Riders         Lucknow Super Giants  \n",
            "256844        Kolkata Knight Riders         Lucknow Super Giants  \n",
            "\n",
            "[377 rows x 4 columns]\n"
          ]
        }
      ]
    },
    {
      "cell_type": "code",
      "source": [
        "# Check for null values\n",
        "print(\"\\n Checking for Null Values in the Dataset:\")\n",
        "print(merged_df.isnull().sum())"
      ],
      "metadata": {
        "colab": {
          "base_uri": "https://localhost:8080/"
        },
        "id": "hpDV8Z4AcDQv",
        "outputId": "17af15fa-fe73-4f3f-a86f-53a544c45533"
      },
      "execution_count": 14,
      "outputs": [
        {
          "output_type": "stream",
          "name": "stdout",
          "text": [
            "\n",
            " Checking for Null Values in the Dataset:\n",
            "match_id              0\n",
            "inning                0\n",
            "batting_team          0\n",
            "bowling_team          0\n",
            "over                  0\n",
            "ball                  0\n",
            "total_runs            0\n",
            "is_wicket             0\n",
            "date                  0\n",
            "home_team             0\n",
            "away_team             0\n",
            "toss_winner           0\n",
            "toss_decision         0\n",
            "winner                0\n",
            "result                0\n",
            "result_margin         0\n",
            "cumulative_runs       0\n",
            "cumulative_wickets    0\n",
            "overs_completed       0\n",
            "current_run_rate      0\n",
            "target_runs           0\n",
            "remaining_overs       0\n",
            "required_run_rate     0\n",
            "dtype: int64\n"
          ]
        }
      ]
    },
    {
      "cell_type": "code",
      "source": [
        "print(merged_df.info())"
      ],
      "metadata": {
        "colab": {
          "base_uri": "https://localhost:8080/"
        },
        "id": "xsIhv6AAcHom",
        "outputId": "b18675be-61b4-4b73-dd4b-7cd38d44e176"
      },
      "execution_count": 15,
      "outputs": [
        {
          "output_type": "stream",
          "name": "stdout",
          "text": [
            "<class 'pandas.core.frame.DataFrame'>\n",
            "RangeIndex: 260920 entries, 0 to 260919\n",
            "Data columns (total 23 columns):\n",
            " #   Column              Non-Null Count   Dtype  \n",
            "---  ------              --------------   -----  \n",
            " 0   match_id            260920 non-null  int64  \n",
            " 1   inning              260920 non-null  int64  \n",
            " 2   batting_team        260920 non-null  object \n",
            " 3   bowling_team        260920 non-null  object \n",
            " 4   over                260920 non-null  int64  \n",
            " 5   ball                260920 non-null  int64  \n",
            " 6   total_runs          260920 non-null  int64  \n",
            " 7   is_wicket           260920 non-null  int64  \n",
            " 8   date                260920 non-null  object \n",
            " 9   home_team           260920 non-null  object \n",
            " 10  away_team           260920 non-null  object \n",
            " 11  toss_winner         260920 non-null  object \n",
            " 12  toss_decision       260920 non-null  object \n",
            " 13  winner              260920 non-null  object \n",
            " 14  result              260920 non-null  object \n",
            " 15  result_margin       260920 non-null  float64\n",
            " 16  cumulative_runs     260920 non-null  int64  \n",
            " 17  cumulative_wickets  260920 non-null  int64  \n",
            " 18  overs_completed     260920 non-null  float64\n",
            " 19  current_run_rate    260920 non-null  float64\n",
            " 20  target_runs         260920 non-null  int64  \n",
            " 21  remaining_overs     260920 non-null  float64\n",
            " 22  required_run_rate   260920 non-null  float64\n",
            "dtypes: float64(5), int64(9), object(9)\n",
            "memory usage: 45.8+ MB\n",
            "None\n"
          ]
        }
      ]
    },
    {
      "cell_type": "code",
      "source": [
        "from sklearn.preprocessing import LabelEncoder\n",
        "from sklearn.model_selection import train_test_split\n",
        "\n",
        "# Initialize label encoder\n",
        "label_encoder = LabelEncoder()\n"
      ],
      "metadata": {
        "id": "LfEDhIXPcKvD"
      },
      "execution_count": 16,
      "outputs": []
    },
    {
      "cell_type": "code",
      "source": [
        "# Encode batting and bowling teams\n",
        "merged_df['batting_team_encoded'] = label_encoder.fit_transform(merged_df['batting_team'])\n",
        "merged_df['bowling_team_encoded'] = label_encoder.fit_transform(merged_df['bowling_team'])"
      ],
      "metadata": {
        "id": "PfXzpMytcKjs"
      },
      "execution_count": 17,
      "outputs": []
    },
    {
      "cell_type": "code",
      "source": [
        "# Encode venue/city (assuming 'venue' exists, otherwise replace with 'city' if available)\n",
        "if 'venue' in merged_df.columns:\n",
        "    merged_df['venue_encoded'] = label_encoder.fit_transform(merged_df['venue'])\n",
        "elif 'city' in merged_df.columns:\n",
        "    merged_df['venue_encoded'] = label_encoder.fit_transform(merged_df['city'])\n",
        "else:\n",
        "    # If neither venue nor city is found, create a new venue column with a default value\n",
        "    merged_df['venue_encoded'] = 0  # Or any other appropriate default value\n",
        "\n",
        "print(\"\\nEncoded features added successfully!\")"
      ],
      "metadata": {
        "colab": {
          "base_uri": "https://localhost:8080/"
        },
        "id": "wyzD9QlWcQV-",
        "outputId": "08e5c1a3-c7c8-4571-b50d-efde11634d7d"
      },
      "execution_count": 18,
      "outputs": [
        {
          "output_type": "stream",
          "name": "stdout",
          "text": [
            "\n",
            "Encoded features added successfully!\n"
          ]
        }
      ]
    },
    {
      "cell_type": "code",
      "source": [
        "# Create the 'win' column: 1 if batting_team is the match winner, else 0\n",
        "merged_df['win'] = (merged_df['batting_team'] == merged_df['winner']).astype(int)\n",
        "\n",
        "print(\"\\n'win' feature added successfully!\")"
      ],
      "metadata": {
        "colab": {
          "base_uri": "https://localhost:8080/"
        },
        "id": "1BCl_44BcUpS",
        "outputId": "f21e9f26-060a-450b-b7b5-a96aca807787"
      },
      "execution_count": 19,
      "outputs": [
        {
          "output_type": "stream",
          "name": "stdout",
          "text": [
            "\n",
            "'win' feature added successfully!\n"
          ]
        }
      ]
    },
    {
      "cell_type": "code",
      "source": [
        "print(\"\\nAvailable columns in merged_df:\")\n",
        "print(merged_df.columns)"
      ],
      "metadata": {
        "colab": {
          "base_uri": "https://localhost:8080/"
        },
        "id": "0fGBNYRtcYPf",
        "outputId": "4d43bb9d-fe91-4103-8b16-0b8d62374106"
      },
      "execution_count": 20,
      "outputs": [
        {
          "output_type": "stream",
          "name": "stdout",
          "text": [
            "\n",
            "Available columns in merged_df:\n",
            "Index(['match_id', 'inning', 'batting_team', 'bowling_team', 'over', 'ball',\n",
            "       'total_runs', 'is_wicket', 'date', 'home_team', 'away_team',\n",
            "       'toss_winner', 'toss_decision', 'winner', 'result', 'result_margin',\n",
            "       'cumulative_runs', 'cumulative_wickets', 'overs_completed',\n",
            "       'current_run_rate', 'target_runs', 'remaining_overs',\n",
            "       'required_run_rate', 'batting_team_encoded', 'bowling_team_encoded',\n",
            "       'venue_encoded', 'win'],\n",
            "      dtype='object')\n"
          ]
        }
      ]
    },
    {
      "cell_type": "code",
      "source": [
        "# Cumulative runs per inning\n",
        "merged_df['cumulative_runs'] = merged_df.groupby(['match_id', 'inning'])['total_runs'].cumsum()\n",
        "\n",
        "# Cumulative wickets per inning\n",
        "merged_df['cumulative_wickets'] = merged_df.groupby(['match_id', 'inning'])['is_wicket'].cumsum()\n",
        "\n",
        "# Overs completed\n",
        "merged_df['overs_completed'] = merged_df['over'] + (merged_df['ball'] / 6)\n",
        "\n",
        "# Current Run Rate (CRR)\n",
        "merged_df['current_run_rate'] = merged_df['cumulative_runs'] / merged_df['overs_completed']\n",
        "\n",
        "# Target Runs (Only for 2nd Inning)\n",
        "target_runs = merged_df[merged_df['inning'] == 1].groupby('match_id')['cumulative_runs'].max() + 1\n",
        "target_runs = target_runs.rename('target_runs')\n",
        "\n",
        "# Merge target runs into merged_df\n",
        "merged_df = merged_df.merge(target_runs, on='match_id', how='left') # Merging target_runs back into merged_df\n",
        "\n",
        "# Remaining overs (assuming T20 format with 20 overs)\n",
        "merged_df['remaining_overs'] = 20 - merged_df['overs_completed']\n",
        "\n",
        "# Required Run Rate (RRR)\n",
        "# The error was here: merged_df was trying to access 'target_runs' column before it was merged\n",
        "# Now, it should work as target_runs has been merged into merged_df in the previous line\n",
        "merged_df['required_run_rate'] = (merged_df['target_runs'] - merged_df['cumulative_runs']) / merged_df['remaining_overs'] # Now calculated after target_runs is available\n",
        "\n",
        "print(\"\\nMissing features recalculated successfully!\")\n"
      ],
      "metadata": {
        "colab": {
          "base_uri": "https://localhost:8080/"
        },
        "id": "zOcT1E-0ca8H",
        "outputId": "6a232ec7-8f49-4ea5-8deb-2bbd31b62349"
      },
      "execution_count": 22,
      "outputs": [
        {
          "output_type": "stream",
          "name": "stdout",
          "text": [
            "\n",
            "Missing features recalculated successfully!\n"
          ]
        }
      ]
    },
    {
      "cell_type": "code",
      "source": [
        "print(\"\\nChecking if all required columns exist now:\")\n",
        "print(merged_df.columns)"
      ],
      "metadata": {
        "colab": {
          "base_uri": "https://localhost:8080/"
        },
        "id": "M3YlpORUc3yB",
        "outputId": "d1be03d4-73a0-441a-d67b-582c58e8860b"
      },
      "execution_count": 23,
      "outputs": [
        {
          "output_type": "stream",
          "name": "stdout",
          "text": [
            "\n",
            "Checking if all required columns exist now:\n",
            "Index(['match_id', 'inning', 'batting_team', 'bowling_team', 'over', 'ball',\n",
            "       'total_runs', 'is_wicket', 'date', 'home_team', 'away_team',\n",
            "       'toss_winner', 'toss_decision', 'winner', 'result', 'result_margin',\n",
            "       'cumulative_runs', 'cumulative_wickets', 'overs_completed',\n",
            "       'current_run_rate', 'target_runs_x', 'remaining_overs',\n",
            "       'required_run_rate', 'batting_team_encoded', 'bowling_team_encoded',\n",
            "       'venue_encoded', 'win', 'target_runs_y', 'target_runs'],\n",
            "      dtype='object')\n"
          ]
        }
      ]
    },
    {
      "cell_type": "code",
      "source": [
        "final_df = merged_df[[\n",
        "    'inning', 'cumulative_runs', 'cumulative_wickets', 'current_run_rate',\n",
        "    'required_run_rate', 'target_runs', 'batting_team_encoded',\n",
        "    'bowling_team_encoded', 'venue_encoded', 'win'\n",
        "]]\n",
        "\n",
        "print(\"\\nFinal DataFrame is ready with the required features:\")\n",
        "print(final_df.head())"
      ],
      "metadata": {
        "colab": {
          "base_uri": "https://localhost:8080/"
        },
        "id": "MXDsMnhrc6vP",
        "outputId": "d434d88c-be93-49d2-9b57-643ce416d275"
      },
      "execution_count": 24,
      "outputs": [
        {
          "output_type": "stream",
          "name": "stdout",
          "text": [
            "\n",
            "Final DataFrame is ready with the required features:\n",
            "   inning  cumulative_runs  cumulative_wickets  current_run_rate  \\\n",
            "0       1                1                   0               6.0   \n",
            "1       1                1                   0               3.0   \n",
            "2       1                2                   0               4.0   \n",
            "3       1                2                   0               3.0   \n",
            "4       1                2                   0               2.4   \n",
            "\n",
            "   required_run_rate  target_runs  batting_team_encoded  bowling_team_encoded  \\\n",
            "0          11.193277          223                     7                    15   \n",
            "1          11.288136          223                     7                    15   \n",
            "2          11.333333          223                     7                    15   \n",
            "3          11.431034          223                     7                    15   \n",
            "4          11.530435          223                     7                    15   \n",
            "\n",
            "   venue_encoded  win  \n",
            "0              0    1  \n",
            "1              0    1  \n",
            "2              0    1  \n",
            "3              0    1  \n",
            "4              0    1  \n"
          ]
        }
      ]
    },
    {
      "cell_type": "code",
      "source": [
        "# Split into training and testing sets (80% train, 20% test)\n",
        "X = final_df.drop(columns=['win'])  # Features\n",
        "y = final_df['win']  # Target variable\n",
        "\n",
        "X_train, X_test, y_train, y_test = train_test_split(X, y, test_size=0.2, random_state=42, stratify=y)\n",
        "\n",
        "print(\"\\nTrain-Test split completed successfully!\")\n",
        "print(f\"Training set: {X_train.shape}, Testing set: {X_test.shape}\")"
      ],
      "metadata": {
        "colab": {
          "base_uri": "https://localhost:8080/"
        },
        "id": "J6W5HvN9c_QG",
        "outputId": "27c7ce7d-814a-4eb2-c10e-c21aa5674359"
      },
      "execution_count": 25,
      "outputs": [
        {
          "output_type": "stream",
          "name": "stdout",
          "text": [
            "\n",
            "Train-Test split completed successfully!\n",
            "Training set: (208736, 9), Testing set: (52184, 9)\n"
          ]
        }
      ]
    },
    {
      "cell_type": "code",
      "source": [
        "from sklearn.linear_model import LogisticRegression\n",
        "from sklearn.ensemble import RandomForestClassifier\n",
        "from xgboost import XGBClassifier\n",
        "from sklearn.metrics import accuracy_score, classification_report, confusion_matrix\n",
        "import seaborn as sns\n",
        "import matplotlib.pyplot as plt"
      ],
      "metadata": {
        "id": "3g09zMHedDVY"
      },
      "execution_count": 26,
      "outputs": []
    },
    {
      "cell_type": "code",
      "source": [
        "# Initialize models with default hyperparameters\n",
        "logreg = LogisticRegression(max_iter=500)\n",
        "rf = RandomForestClassifier(random_state=42)\n",
        "xgb = XGBClassifier(use_label_encoder=False, eval_metric='logloss')"
      ],
      "metadata": {
        "id": "ZyQXuCb1dGrz"
      },
      "execution_count": 27,
      "outputs": []
    },
    {
      "cell_type": "code",
      "source": [
        "# Before training the models, check and handle NaN and infinite values in X_train and X_test:\n",
        "import numpy as np\n",
        "\n",
        "# Replace infinite values with a large finite value or NaN, then handle NaNs\n",
        "X_train.replace([np.inf, -np.inf], np.nan, inplace=True)\n",
        "X_test.replace([np.inf, -np.inf], np.nan, inplace=True)\n",
        "\n",
        "# Option 1: Replace NaN with a specific value (e.g., 0)\n",
        "X_train.fillna(0, inplace=True)\n",
        "X_test.fillna(0, inplace=True)\n",
        "\n",
        "# Now, proceed to train your models:\n",
        "logreg.fit(X_train, y_train)\n",
        "rf.fit(X_train, y_train)\n",
        "xgb.fit(X_train, y_train)"
      ],
      "metadata": {
        "colab": {
          "base_uri": "https://localhost:8080/",
          "height": 343
        },
        "id": "r6kFMch6dJrB",
        "outputId": "bb6df47a-c9cc-436b-8ef0-eff44dfbbf87"
      },
      "execution_count": 28,
      "outputs": [
        {
          "output_type": "stream",
          "name": "stderr",
          "text": [
            "/usr/local/lib/python3.11/dist-packages/xgboost/core.py:158: UserWarning: [16:04:55] WARNING: /workspace/src/learner.cc:740: \n",
            "Parameters: { \"use_label_encoder\" } are not used.\n",
            "\n",
            "  warnings.warn(smsg, UserWarning)\n"
          ]
        },
        {
          "output_type": "execute_result",
          "data": {
            "text/plain": [
              "XGBClassifier(base_score=None, booster=None, callbacks=None,\n",
              "              colsample_bylevel=None, colsample_bynode=None,\n",
              "              colsample_bytree=None, device=None, early_stopping_rounds=None,\n",
              "              enable_categorical=False, eval_metric='logloss',\n",
              "              feature_types=None, gamma=None, grow_policy=None,\n",
              "              importance_type=None, interaction_constraints=None,\n",
              "              learning_rate=None, max_bin=None, max_cat_threshold=None,\n",
              "              max_cat_to_onehot=None, max_delta_step=None, max_depth=None,\n",
              "              max_leaves=None, min_child_weight=None, missing=nan,\n",
              "              monotone_constraints=None, multi_strategy=None, n_estimators=None,\n",
              "              n_jobs=None, num_parallel_tree=None, random_state=None, ...)"
            ],
            "text/html": [
              "<style>#sk-container-id-1 {\n",
              "  /* Definition of color scheme common for light and dark mode */\n",
              "  --sklearn-color-text: #000;\n",
              "  --sklearn-color-text-muted: #666;\n",
              "  --sklearn-color-line: gray;\n",
              "  /* Definition of color scheme for unfitted estimators */\n",
              "  --sklearn-color-unfitted-level-0: #fff5e6;\n",
              "  --sklearn-color-unfitted-level-1: #f6e4d2;\n",
              "  --sklearn-color-unfitted-level-2: #ffe0b3;\n",
              "  --sklearn-color-unfitted-level-3: chocolate;\n",
              "  /* Definition of color scheme for fitted estimators */\n",
              "  --sklearn-color-fitted-level-0: #f0f8ff;\n",
              "  --sklearn-color-fitted-level-1: #d4ebff;\n",
              "  --sklearn-color-fitted-level-2: #b3dbfd;\n",
              "  --sklearn-color-fitted-level-3: cornflowerblue;\n",
              "\n",
              "  /* Specific color for light theme */\n",
              "  --sklearn-color-text-on-default-background: var(--sg-text-color, var(--theme-code-foreground, var(--jp-content-font-color1, black)));\n",
              "  --sklearn-color-background: var(--sg-background-color, var(--theme-background, var(--jp-layout-color0, white)));\n",
              "  --sklearn-color-border-box: var(--sg-text-color, var(--theme-code-foreground, var(--jp-content-font-color1, black)));\n",
              "  --sklearn-color-icon: #696969;\n",
              "\n",
              "  @media (prefers-color-scheme: dark) {\n",
              "    /* Redefinition of color scheme for dark theme */\n",
              "    --sklearn-color-text-on-default-background: var(--sg-text-color, var(--theme-code-foreground, var(--jp-content-font-color1, white)));\n",
              "    --sklearn-color-background: var(--sg-background-color, var(--theme-background, var(--jp-layout-color0, #111)));\n",
              "    --sklearn-color-border-box: var(--sg-text-color, var(--theme-code-foreground, var(--jp-content-font-color1, white)));\n",
              "    --sklearn-color-icon: #878787;\n",
              "  }\n",
              "}\n",
              "\n",
              "#sk-container-id-1 {\n",
              "  color: var(--sklearn-color-text);\n",
              "}\n",
              "\n",
              "#sk-container-id-1 pre {\n",
              "  padding: 0;\n",
              "}\n",
              "\n",
              "#sk-container-id-1 input.sk-hidden--visually {\n",
              "  border: 0;\n",
              "  clip: rect(1px 1px 1px 1px);\n",
              "  clip: rect(1px, 1px, 1px, 1px);\n",
              "  height: 1px;\n",
              "  margin: -1px;\n",
              "  overflow: hidden;\n",
              "  padding: 0;\n",
              "  position: absolute;\n",
              "  width: 1px;\n",
              "}\n",
              "\n",
              "#sk-container-id-1 div.sk-dashed-wrapped {\n",
              "  border: 1px dashed var(--sklearn-color-line);\n",
              "  margin: 0 0.4em 0.5em 0.4em;\n",
              "  box-sizing: border-box;\n",
              "  padding-bottom: 0.4em;\n",
              "  background-color: var(--sklearn-color-background);\n",
              "}\n",
              "\n",
              "#sk-container-id-1 div.sk-container {\n",
              "  /* jupyter's `normalize.less` sets `[hidden] { display: none; }`\n",
              "     but bootstrap.min.css set `[hidden] { display: none !important; }`\n",
              "     so we also need the `!important` here to be able to override the\n",
              "     default hidden behavior on the sphinx rendered scikit-learn.org.\n",
              "     See: https://github.com/scikit-learn/scikit-learn/issues/21755 */\n",
              "  display: inline-block !important;\n",
              "  position: relative;\n",
              "}\n",
              "\n",
              "#sk-container-id-1 div.sk-text-repr-fallback {\n",
              "  display: none;\n",
              "}\n",
              "\n",
              "div.sk-parallel-item,\n",
              "div.sk-serial,\n",
              "div.sk-item {\n",
              "  /* draw centered vertical line to link estimators */\n",
              "  background-image: linear-gradient(var(--sklearn-color-text-on-default-background), var(--sklearn-color-text-on-default-background));\n",
              "  background-size: 2px 100%;\n",
              "  background-repeat: no-repeat;\n",
              "  background-position: center center;\n",
              "}\n",
              "\n",
              "/* Parallel-specific style estimator block */\n",
              "\n",
              "#sk-container-id-1 div.sk-parallel-item::after {\n",
              "  content: \"\";\n",
              "  width: 100%;\n",
              "  border-bottom: 2px solid var(--sklearn-color-text-on-default-background);\n",
              "  flex-grow: 1;\n",
              "}\n",
              "\n",
              "#sk-container-id-1 div.sk-parallel {\n",
              "  display: flex;\n",
              "  align-items: stretch;\n",
              "  justify-content: center;\n",
              "  background-color: var(--sklearn-color-background);\n",
              "  position: relative;\n",
              "}\n",
              "\n",
              "#sk-container-id-1 div.sk-parallel-item {\n",
              "  display: flex;\n",
              "  flex-direction: column;\n",
              "}\n",
              "\n",
              "#sk-container-id-1 div.sk-parallel-item:first-child::after {\n",
              "  align-self: flex-end;\n",
              "  width: 50%;\n",
              "}\n",
              "\n",
              "#sk-container-id-1 div.sk-parallel-item:last-child::after {\n",
              "  align-self: flex-start;\n",
              "  width: 50%;\n",
              "}\n",
              "\n",
              "#sk-container-id-1 div.sk-parallel-item:only-child::after {\n",
              "  width: 0;\n",
              "}\n",
              "\n",
              "/* Serial-specific style estimator block */\n",
              "\n",
              "#sk-container-id-1 div.sk-serial {\n",
              "  display: flex;\n",
              "  flex-direction: column;\n",
              "  align-items: center;\n",
              "  background-color: var(--sklearn-color-background);\n",
              "  padding-right: 1em;\n",
              "  padding-left: 1em;\n",
              "}\n",
              "\n",
              "\n",
              "/* Toggleable style: style used for estimator/Pipeline/ColumnTransformer box that is\n",
              "clickable and can be expanded/collapsed.\n",
              "- Pipeline and ColumnTransformer use this feature and define the default style\n",
              "- Estimators will overwrite some part of the style using the `sk-estimator` class\n",
              "*/\n",
              "\n",
              "/* Pipeline and ColumnTransformer style (default) */\n",
              "\n",
              "#sk-container-id-1 div.sk-toggleable {\n",
              "  /* Default theme specific background. It is overwritten whether we have a\n",
              "  specific estimator or a Pipeline/ColumnTransformer */\n",
              "  background-color: var(--sklearn-color-background);\n",
              "}\n",
              "\n",
              "/* Toggleable label */\n",
              "#sk-container-id-1 label.sk-toggleable__label {\n",
              "  cursor: pointer;\n",
              "  display: flex;\n",
              "  width: 100%;\n",
              "  margin-bottom: 0;\n",
              "  padding: 0.5em;\n",
              "  box-sizing: border-box;\n",
              "  text-align: center;\n",
              "  align-items: start;\n",
              "  justify-content: space-between;\n",
              "  gap: 0.5em;\n",
              "}\n",
              "\n",
              "#sk-container-id-1 label.sk-toggleable__label .caption {\n",
              "  font-size: 0.6rem;\n",
              "  font-weight: lighter;\n",
              "  color: var(--sklearn-color-text-muted);\n",
              "}\n",
              "\n",
              "#sk-container-id-1 label.sk-toggleable__label-arrow:before {\n",
              "  /* Arrow on the left of the label */\n",
              "  content: \"▸\";\n",
              "  float: left;\n",
              "  margin-right: 0.25em;\n",
              "  color: var(--sklearn-color-icon);\n",
              "}\n",
              "\n",
              "#sk-container-id-1 label.sk-toggleable__label-arrow:hover:before {\n",
              "  color: var(--sklearn-color-text);\n",
              "}\n",
              "\n",
              "/* Toggleable content - dropdown */\n",
              "\n",
              "#sk-container-id-1 div.sk-toggleable__content {\n",
              "  max-height: 0;\n",
              "  max-width: 0;\n",
              "  overflow: hidden;\n",
              "  text-align: left;\n",
              "  /* unfitted */\n",
              "  background-color: var(--sklearn-color-unfitted-level-0);\n",
              "}\n",
              "\n",
              "#sk-container-id-1 div.sk-toggleable__content.fitted {\n",
              "  /* fitted */\n",
              "  background-color: var(--sklearn-color-fitted-level-0);\n",
              "}\n",
              "\n",
              "#sk-container-id-1 div.sk-toggleable__content pre {\n",
              "  margin: 0.2em;\n",
              "  border-radius: 0.25em;\n",
              "  color: var(--sklearn-color-text);\n",
              "  /* unfitted */\n",
              "  background-color: var(--sklearn-color-unfitted-level-0);\n",
              "}\n",
              "\n",
              "#sk-container-id-1 div.sk-toggleable__content.fitted pre {\n",
              "  /* unfitted */\n",
              "  background-color: var(--sklearn-color-fitted-level-0);\n",
              "}\n",
              "\n",
              "#sk-container-id-1 input.sk-toggleable__control:checked~div.sk-toggleable__content {\n",
              "  /* Expand drop-down */\n",
              "  max-height: 200px;\n",
              "  max-width: 100%;\n",
              "  overflow: auto;\n",
              "}\n",
              "\n",
              "#sk-container-id-1 input.sk-toggleable__control:checked~label.sk-toggleable__label-arrow:before {\n",
              "  content: \"▾\";\n",
              "}\n",
              "\n",
              "/* Pipeline/ColumnTransformer-specific style */\n",
              "\n",
              "#sk-container-id-1 div.sk-label input.sk-toggleable__control:checked~label.sk-toggleable__label {\n",
              "  color: var(--sklearn-color-text);\n",
              "  background-color: var(--sklearn-color-unfitted-level-2);\n",
              "}\n",
              "\n",
              "#sk-container-id-1 div.sk-label.fitted input.sk-toggleable__control:checked~label.sk-toggleable__label {\n",
              "  background-color: var(--sklearn-color-fitted-level-2);\n",
              "}\n",
              "\n",
              "/* Estimator-specific style */\n",
              "\n",
              "/* Colorize estimator box */\n",
              "#sk-container-id-1 div.sk-estimator input.sk-toggleable__control:checked~label.sk-toggleable__label {\n",
              "  /* unfitted */\n",
              "  background-color: var(--sklearn-color-unfitted-level-2);\n",
              "}\n",
              "\n",
              "#sk-container-id-1 div.sk-estimator.fitted input.sk-toggleable__control:checked~label.sk-toggleable__label {\n",
              "  /* fitted */\n",
              "  background-color: var(--sklearn-color-fitted-level-2);\n",
              "}\n",
              "\n",
              "#sk-container-id-1 div.sk-label label.sk-toggleable__label,\n",
              "#sk-container-id-1 div.sk-label label {\n",
              "  /* The background is the default theme color */\n",
              "  color: var(--sklearn-color-text-on-default-background);\n",
              "}\n",
              "\n",
              "/* On hover, darken the color of the background */\n",
              "#sk-container-id-1 div.sk-label:hover label.sk-toggleable__label {\n",
              "  color: var(--sklearn-color-text);\n",
              "  background-color: var(--sklearn-color-unfitted-level-2);\n",
              "}\n",
              "\n",
              "/* Label box, darken color on hover, fitted */\n",
              "#sk-container-id-1 div.sk-label.fitted:hover label.sk-toggleable__label.fitted {\n",
              "  color: var(--sklearn-color-text);\n",
              "  background-color: var(--sklearn-color-fitted-level-2);\n",
              "}\n",
              "\n",
              "/* Estimator label */\n",
              "\n",
              "#sk-container-id-1 div.sk-label label {\n",
              "  font-family: monospace;\n",
              "  font-weight: bold;\n",
              "  display: inline-block;\n",
              "  line-height: 1.2em;\n",
              "}\n",
              "\n",
              "#sk-container-id-1 div.sk-label-container {\n",
              "  text-align: center;\n",
              "}\n",
              "\n",
              "/* Estimator-specific */\n",
              "#sk-container-id-1 div.sk-estimator {\n",
              "  font-family: monospace;\n",
              "  border: 1px dotted var(--sklearn-color-border-box);\n",
              "  border-radius: 0.25em;\n",
              "  box-sizing: border-box;\n",
              "  margin-bottom: 0.5em;\n",
              "  /* unfitted */\n",
              "  background-color: var(--sklearn-color-unfitted-level-0);\n",
              "}\n",
              "\n",
              "#sk-container-id-1 div.sk-estimator.fitted {\n",
              "  /* fitted */\n",
              "  background-color: var(--sklearn-color-fitted-level-0);\n",
              "}\n",
              "\n",
              "/* on hover */\n",
              "#sk-container-id-1 div.sk-estimator:hover {\n",
              "  /* unfitted */\n",
              "  background-color: var(--sklearn-color-unfitted-level-2);\n",
              "}\n",
              "\n",
              "#sk-container-id-1 div.sk-estimator.fitted:hover {\n",
              "  /* fitted */\n",
              "  background-color: var(--sklearn-color-fitted-level-2);\n",
              "}\n",
              "\n",
              "/* Specification for estimator info (e.g. \"i\" and \"?\") */\n",
              "\n",
              "/* Common style for \"i\" and \"?\" */\n",
              "\n",
              ".sk-estimator-doc-link,\n",
              "a:link.sk-estimator-doc-link,\n",
              "a:visited.sk-estimator-doc-link {\n",
              "  float: right;\n",
              "  font-size: smaller;\n",
              "  line-height: 1em;\n",
              "  font-family: monospace;\n",
              "  background-color: var(--sklearn-color-background);\n",
              "  border-radius: 1em;\n",
              "  height: 1em;\n",
              "  width: 1em;\n",
              "  text-decoration: none !important;\n",
              "  margin-left: 0.5em;\n",
              "  text-align: center;\n",
              "  /* unfitted */\n",
              "  border: var(--sklearn-color-unfitted-level-1) 1pt solid;\n",
              "  color: var(--sklearn-color-unfitted-level-1);\n",
              "}\n",
              "\n",
              ".sk-estimator-doc-link.fitted,\n",
              "a:link.sk-estimator-doc-link.fitted,\n",
              "a:visited.sk-estimator-doc-link.fitted {\n",
              "  /* fitted */\n",
              "  border: var(--sklearn-color-fitted-level-1) 1pt solid;\n",
              "  color: var(--sklearn-color-fitted-level-1);\n",
              "}\n",
              "\n",
              "/* On hover */\n",
              "div.sk-estimator:hover .sk-estimator-doc-link:hover,\n",
              ".sk-estimator-doc-link:hover,\n",
              "div.sk-label-container:hover .sk-estimator-doc-link:hover,\n",
              ".sk-estimator-doc-link:hover {\n",
              "  /* unfitted */\n",
              "  background-color: var(--sklearn-color-unfitted-level-3);\n",
              "  color: var(--sklearn-color-background);\n",
              "  text-decoration: none;\n",
              "}\n",
              "\n",
              "div.sk-estimator.fitted:hover .sk-estimator-doc-link.fitted:hover,\n",
              ".sk-estimator-doc-link.fitted:hover,\n",
              "div.sk-label-container:hover .sk-estimator-doc-link.fitted:hover,\n",
              ".sk-estimator-doc-link.fitted:hover {\n",
              "  /* fitted */\n",
              "  background-color: var(--sklearn-color-fitted-level-3);\n",
              "  color: var(--sklearn-color-background);\n",
              "  text-decoration: none;\n",
              "}\n",
              "\n",
              "/* Span, style for the box shown on hovering the info icon */\n",
              ".sk-estimator-doc-link span {\n",
              "  display: none;\n",
              "  z-index: 9999;\n",
              "  position: relative;\n",
              "  font-weight: normal;\n",
              "  right: .2ex;\n",
              "  padding: .5ex;\n",
              "  margin: .5ex;\n",
              "  width: min-content;\n",
              "  min-width: 20ex;\n",
              "  max-width: 50ex;\n",
              "  color: var(--sklearn-color-text);\n",
              "  box-shadow: 2pt 2pt 4pt #999;\n",
              "  /* unfitted */\n",
              "  background: var(--sklearn-color-unfitted-level-0);\n",
              "  border: .5pt solid var(--sklearn-color-unfitted-level-3);\n",
              "}\n",
              "\n",
              ".sk-estimator-doc-link.fitted span {\n",
              "  /* fitted */\n",
              "  background: var(--sklearn-color-fitted-level-0);\n",
              "  border: var(--sklearn-color-fitted-level-3);\n",
              "}\n",
              "\n",
              ".sk-estimator-doc-link:hover span {\n",
              "  display: block;\n",
              "}\n",
              "\n",
              "/* \"?\"-specific style due to the `<a>` HTML tag */\n",
              "\n",
              "#sk-container-id-1 a.estimator_doc_link {\n",
              "  float: right;\n",
              "  font-size: 1rem;\n",
              "  line-height: 1em;\n",
              "  font-family: monospace;\n",
              "  background-color: var(--sklearn-color-background);\n",
              "  border-radius: 1rem;\n",
              "  height: 1rem;\n",
              "  width: 1rem;\n",
              "  text-decoration: none;\n",
              "  /* unfitted */\n",
              "  color: var(--sklearn-color-unfitted-level-1);\n",
              "  border: var(--sklearn-color-unfitted-level-1) 1pt solid;\n",
              "}\n",
              "\n",
              "#sk-container-id-1 a.estimator_doc_link.fitted {\n",
              "  /* fitted */\n",
              "  border: var(--sklearn-color-fitted-level-1) 1pt solid;\n",
              "  color: var(--sklearn-color-fitted-level-1);\n",
              "}\n",
              "\n",
              "/* On hover */\n",
              "#sk-container-id-1 a.estimator_doc_link:hover {\n",
              "  /* unfitted */\n",
              "  background-color: var(--sklearn-color-unfitted-level-3);\n",
              "  color: var(--sklearn-color-background);\n",
              "  text-decoration: none;\n",
              "}\n",
              "\n",
              "#sk-container-id-1 a.estimator_doc_link.fitted:hover {\n",
              "  /* fitted */\n",
              "  background-color: var(--sklearn-color-fitted-level-3);\n",
              "}\n",
              "</style><div id=\"sk-container-id-1\" class=\"sk-top-container\"><div class=\"sk-text-repr-fallback\"><pre>XGBClassifier(base_score=None, booster=None, callbacks=None,\n",
              "              colsample_bylevel=None, colsample_bynode=None,\n",
              "              colsample_bytree=None, device=None, early_stopping_rounds=None,\n",
              "              enable_categorical=False, eval_metric=&#x27;logloss&#x27;,\n",
              "              feature_types=None, gamma=None, grow_policy=None,\n",
              "              importance_type=None, interaction_constraints=None,\n",
              "              learning_rate=None, max_bin=None, max_cat_threshold=None,\n",
              "              max_cat_to_onehot=None, max_delta_step=None, max_depth=None,\n",
              "              max_leaves=None, min_child_weight=None, missing=nan,\n",
              "              monotone_constraints=None, multi_strategy=None, n_estimators=None,\n",
              "              n_jobs=None, num_parallel_tree=None, random_state=None, ...)</pre><b>In a Jupyter environment, please rerun this cell to show the HTML representation or trust the notebook. <br />On GitHub, the HTML representation is unable to render, please try loading this page with nbviewer.org.</b></div><div class=\"sk-container\" hidden><div class=\"sk-item\"><div class=\"sk-estimator fitted sk-toggleable\"><input class=\"sk-toggleable__control sk-hidden--visually\" id=\"sk-estimator-id-1\" type=\"checkbox\" checked><label for=\"sk-estimator-id-1\" class=\"sk-toggleable__label fitted sk-toggleable__label-arrow\"><div><div>XGBClassifier</div></div><div><span class=\"sk-estimator-doc-link fitted\">i<span>Fitted</span></span></div></label><div class=\"sk-toggleable__content fitted\"><pre>XGBClassifier(base_score=None, booster=None, callbacks=None,\n",
              "              colsample_bylevel=None, colsample_bynode=None,\n",
              "              colsample_bytree=None, device=None, early_stopping_rounds=None,\n",
              "              enable_categorical=False, eval_metric=&#x27;logloss&#x27;,\n",
              "              feature_types=None, gamma=None, grow_policy=None,\n",
              "              importance_type=None, interaction_constraints=None,\n",
              "              learning_rate=None, max_bin=None, max_cat_threshold=None,\n",
              "              max_cat_to_onehot=None, max_delta_step=None, max_depth=None,\n",
              "              max_leaves=None, min_child_weight=None, missing=nan,\n",
              "              monotone_constraints=None, multi_strategy=None, n_estimators=None,\n",
              "              n_jobs=None, num_parallel_tree=None, random_state=None, ...)</pre></div> </div></div></div></div>"
            ]
          },
          "metadata": {},
          "execution_count": 28
        }
      ]
    },
    {
      "cell_type": "code",
      "source": [
        "# Generate predictions\n",
        "y_pred_logreg = logreg.predict(X_test)\n",
        "y_pred_rf = rf.predict(X_test)\n",
        "y_pred_xgb = xgb.predict(X_test)"
      ],
      "metadata": {
        "id": "ChKOyitjdNUh"
      },
      "execution_count": 29,
      "outputs": []
    },
    {
      "cell_type": "code",
      "source": [
        "# Define a function for evaluation\n",
        "def evaluate_model(model_name, y_true, y_pred):\n",
        "    print(f\"\\nModel: {model_name}\")\n",
        "    print(\"Accuracy:\", accuracy_score(y_true, y_pred))\n",
        "    print(\"\\nClassification Report:\")\n",
        "    print(classification_report(y_true, y_pred))\n",
        "\n",
        "    # Plot Confusion Matrix\n",
        "    cm = confusion_matrix(y_true, y_pred)\n",
        "    plt.figure(figsize=(5,4))\n",
        "    sns.heatmap(cm, annot=True, fmt='d', cmap='Blues', xticklabels=[\"Loss\", \"Win\"], yticklabels=[\"Loss\", \"Win\"])\n",
        "    plt.xlabel(\"Predicted\")\n",
        "    plt.ylabel(\"Actual\")\n",
        "    plt.title(f\"Confusion Matrix - {model_name}\")\n",
        "    plt.show()"
      ],
      "metadata": {
        "id": "4fdKnzEpdQgV"
      },
      "execution_count": 30,
      "outputs": []
    },
    {
      "cell_type": "code",
      "source": [
        "# Evaluate each model\n",
        "evaluate_model(\"Logistic Regression\", y_test, y_pred_logreg)\n",
        "evaluate_model(\"Random Forest\", y_test, y_pred_rf)\n",
        "evaluate_model(\"XGBoost\", y_test, y_pred_xgb)"
      ],
      "metadata": {
        "colab": {
          "base_uri": "https://localhost:8080/",
          "height": 1000
        },
        "id": "dl3WrVZZdk-D",
        "outputId": "d23a55c4-3edd-44af-d624-117d4c8a97cd"
      },
      "execution_count": 31,
      "outputs": [
        {
          "output_type": "stream",
          "name": "stdout",
          "text": [
            "\n",
            "Model: Logistic Regression\n",
            "Accuracy: 0.6547792426797486\n",
            "\n",
            "Classification Report:\n",
            "              precision    recall  f1-score   support\n",
            "\n",
            "           0       0.67      0.81      0.74     30885\n",
            "           1       0.61      0.42      0.50     21299\n",
            "\n",
            "    accuracy                           0.65     52184\n",
            "   macro avg       0.64      0.62      0.62     52184\n",
            "weighted avg       0.65      0.65      0.64     52184\n",
            "\n"
          ]
        },
        {
          "output_type": "display_data",
          "data": {
            "text/plain": [
              "<Figure size 500x400 with 2 Axes>"
            ],
            "image/png": "[encoded data removed]"
          },
          "metadata": {}
        },
        {
          "output_type": "stream",
          "name": "stdout",
          "text": [
            "\n",
            "Model: Random Forest\n",
            "Accuracy: 0.9929671930093515\n",
            "\n",
            "Classification Report:\n",
            "              precision    recall  f1-score   support\n",
            "\n",
            "           0       0.99      1.00      0.99     30885\n",
            "           1       0.99      0.99      0.99     21299\n",
            "\n",
            "    accuracy                           0.99     52184\n",
            "   macro avg       0.99      0.99      0.99     52184\n",
            "weighted avg       0.99      0.99      0.99     52184\n",
            "\n"
          ]
        },
        {
          "output_type": "display_data",
          "data": {
            "text/plain": [
              "<Figure size 500x400 with 2 Axes>"
            ],
            "image/png": "[encoded data removed]"
          },
          "metadata": {}
        },
        {
          "output_type": "stream",
          "name": "stdout",
          "text": [
            "\n",
            "Model: XGBoost\n",
            "Accuracy: 0.9691284684960908\n",
            "\n",
            "Classification Report:\n",
            "              precision    recall  f1-score   support\n",
            "\n",
            "           0       0.97      0.97      0.97     30885\n",
            "           1       0.96      0.96      0.96     21299\n",
            "\n",
            "    accuracy                           0.97     52184\n",
            "   macro avg       0.97      0.97      0.97     52184\n",
            "weighted avg       0.97      0.97      0.97     52184\n",
            "\n"
          ]
        },
        {
          "output_type": "display_data",
          "data": {
            "text/plain": [
              "<Figure size 500x400 with 2 Axes>"
            ],
            "image/png": "[encoded data removed]"
          },
          "metadata": {}
        }
      ]
    },
    {
      "cell_type": "code",
      "source": [
        "from sklearn.ensemble import RandomForestClassifier\n",
        "from sklearn.model_selection import RandomizedSearchCV\n",
        "\n",
        "# Define smaller hyperparameter grid\n",
        "rf_param_grid = {\n",
        "    'n_estimators': [50, 100],  # Reduced options\n",
        "    'max_depth': [None, 10],  # Reduced options\n",
        "    'min_samples_split': [2, 5],\n",
        "    'min_samples_leaf': [1, 2]\n",
        "}\n",
        "\n",
        "# Initialize model\n",
        "rf = RandomForestClassifier(random_state=42)\n",
        "\n",
        "# RandomizedSearchCV with only 5 candidates & 2-fold CV\n",
        "rf_random_search = RandomizedSearchCV(\n",
        "    estimator=rf,\n",
        "    param_distributions=rf_param_grid,\n",
        "    n_iter=5,  # Reduced to 5\n",
        "    cv=2,  # Reduced to 2 folds\n",
        "    verbose=1,\n",
        "    n_jobs=-1,\n",
        "    random_state=42\n",
        ")\n",
        "\n",
        "rf_random_search.fit(X_train, y_train)\n",
        "\n",
        "# Best parameters\n",
        "print(\"Best Random Forest Parameters:\", rf_random_search.best_params_)\n"
      ],
      "metadata": {
        "colab": {
          "base_uri": "https://localhost:8080/"
        },
        "id": "ufYQaM-Cdwu-",
        "outputId": "b33fc387-09ea-456a-d5ac-e3c469c8e36e"
      },
      "execution_count": 32,
      "outputs": [
        {
          "output_type": "stream",
          "name": "stdout",
          "text": [
            "Fitting 2 folds for each of 5 candidates, totalling 10 fits\n",
            "Best Random Forest Parameters: {'n_estimators': 100, 'min_samples_split': 2, 'min_samples_leaf': 1, 'max_depth': None}\n"
          ]
        }
      ]
    },
    {
      "cell_type": "code",
      "source": [
        "from xgboost import XGBClassifier\n",
        "from sklearn.model_selection import RandomizedSearchCV\n",
        "\n",
        "# Define smaller hyperparameter grid\n",
        "xgb_param_grid = {\n",
        "    'n_estimators': [50, 100],  # Reduced options\n",
        "    'learning_rate': [0.01, 0.1],\n",
        "    'max_depth': [3, 5]\n",
        "}\n",
        "\n",
        "# Initialize model\n",
        "xgb = XGBClassifier(use_label_encoder=False, eval_metric='logloss')\n",
        "\n",
        "# RandomizedSearchCV with only 5 candidates & 2-fold CV\n",
        "xgb_random_search = RandomizedSearchCV(\n",
        "    estimator=xgb,\n",
        "    param_distributions=xgb_param_grid,\n",
        "    n_iter=5,  # Reduced to 5\n",
        "    cv=2,  # Reduced to 2 folds\n",
        "    verbose=1,\n",
        "    n_jobs=-1,\n",
        "    random_state=42\n",
        ")\n",
        "\n",
        "xgb_random_search.fit(X_train, y_train)\n",
        "\n",
        "# Best parameters\n",
        "print(\"Best XGBoost Parameters:\", xgb_random_search.best_params_)"
      ],
      "metadata": {
        "colab": {
          "base_uri": "https://localhost:8080/"
        },
        "id": "Jk4FcnWJeF1L",
        "outputId": "b6cf5ab2-dfc6-4570-dde4-a13287f32e93"
      },
      "execution_count": 33,
      "outputs": [
        {
          "output_type": "stream",
          "name": "stdout",
          "text": [
            "Fitting 2 folds for each of 5 candidates, totalling 10 fits\n"
          ]
        },
        {
          "output_type": "stream",
          "name": "stderr",
          "text": [
            "/usr/local/lib/python3.11/dist-packages/xgboost/core.py:158: UserWarning: [16:08:26] WARNING: /workspace/src/learner.cc:740: \n",
            "Parameters: { \"use_label_encoder\" } are not used.\n",
            "\n",
            "  warnings.warn(smsg, UserWarning)\n"
          ]
        },
        {
          "output_type": "stream",
          "name": "stdout",
          "text": [
            "Best XGBoost Parameters: {'n_estimators': 100, 'max_depth': 5, 'learning_rate': 0.1}\n"
          ]
        }
      ]
    },
    {
      "cell_type": "code",
      "source": [
        "# Assume rand_search_rf.best_estimator_ is our final tuned Random Forest model\n",
        "final_rf_model = rf_random_search.best_estimator_\n",
        "final_rf_model.fit(X_train, y_train)\n",
        "\n",
        "# Evaluate on test data\n",
        "y_test_pred = final_rf_model.predict(X_test)\n",
        "print(\"Final Model Testing Accuracy: {:.2f}%\".format(accuracy_score(y_test, y_test_pred)*100))\n",
        "print(\"Final Model Classification Report (Test):\")\n",
        "print(classification_report(y_test, y_test_pred))\n",
        "print(\"Final Model Confusion Matrix (Test):\")\n",
        "print(confusion_matrix(y_test, y_test_pred))\n",
        "\n",
        "# Save the final model\n",
        "import joblib\n",
        "joblib.dump(final_rf_model, 'final_rf_model.pkl')\n"
      ],
      "metadata": {
        "id": "egfbpzkZEH61",
        "outputId": "bbfda7a2-68af-4ffd-a77c-561d226b179d",
        "colab": {
          "base_uri": "https://localhost:8080/"
        }
      },
      "execution_count": 36,
      "outputs": [
        {
          "output_type": "stream",
          "name": "stdout",
          "text": [
            "Final Model Testing Accuracy: 99.30%\n",
            "Final Model Classification Report (Test):\n",
            "              precision    recall  f1-score   support\n",
            "\n",
            "           0       0.99      1.00      0.99     30885\n",
            "           1       0.99      0.99      0.99     21299\n",
            "\n",
            "    accuracy                           0.99     52184\n",
            "   macro avg       0.99      0.99      0.99     52184\n",
            "weighted avg       0.99      0.99      0.99     52184\n",
            "\n",
            "Final Model Confusion Matrix (Test):\n",
            "[[30731   154]\n",
            " [  213 21086]]\n"
          ]
        },
        {
          "output_type": "execute_result",
          "data": {
            "text/plain": [
              "['final_rf_model.pkl']"
            ]
          },
          "metadata": {},
          "execution_count": 36
        }
      ]
    },
    {
      "cell_type": "code",
      "source": [
        "#inferencing code ---------------------------\n",
        "# User Input (example values)\n",
        "# ---------------------------\n",
        "# In a real scenario, these inputs would come from a user interface or a live data feed.\n",
        "user_input = {\n",
        "    'inning': 1,\n",
        "    'cum_runs': 80,            # current cumulative runs\n",
        "    'cum_wickets': 5,          # current wickets lost\n",
        "    'overs_completed': 12.0,    # overs completed so far\n",
        "    'target': 0,             # target score\n",
        "    'batting_team': \"Mumbai Indians\",\n",
        "    'bowling_team': \"Chennai Super Kings\",\n",
        "    'venue': \"Wankhede Stadium\"  # assume this maps to a canonical venue (e.g., \"Wankhede Stadium\")\n",
        "}"
      ],
      "metadata": {
        "id": "BCMQXCbyFKv6"
      },
      "execution_count": 37,
      "outputs": []
    },
    {
      "cell_type": "code",
      "source": [
        "# ---------------------------\n",
        "# 1. Compute Derived Features\n",
        "# ---------------------------\n",
        "# Compute current run rate\n",
        "if user_input['overs_completed'] > 0:\n",
        "    current_run_rate = user_input['cum_runs'] / user_input['overs_completed']\n",
        "else:\n",
        "    current_run_rate = 0\n",
        "\n",
        "# Compute required run rate\n",
        "remaining_overs = 20 - user_input['overs_completed']\n",
        "if user_input['inning'] == 2 and remaining_overs > 0:\n",
        "    required_run_rate = (user_input['target'] - user_input['cum_runs']) / remaining_overs\n",
        "else:\n",
        "    required_run_rate = 0"
      ],
      "metadata": {
        "id": "zCE0h7_MFLyt"
      },
      "execution_count": 38,
      "outputs": []
    },
    {
      "cell_type": "code",
      "source": [
        "# 2. Load Saved Encoders and Model\n",
        "# Get the batting_team_encoded column index from the training data\n",
        "batting_team_index = X_train.columns.get_loc('batting_team_encoded')\n",
        "# Initialize a new LabelEncoder for batting_team\n",
        "le_team = LabelEncoder()\n",
        "# Fit the LabelEncoder to the batting_team values from your training data\n",
        "le_team.fit(X_train['batting_team_encoded'])\n",
        "# Similar approach for bowling_team\n",
        "bowling_team_index = X_train.columns.get_loc('bowling_team_encoded')\n",
        "# Initialize a new LabelEncoder for bowling_team\n",
        "le_venue = LabelEncoder()\n",
        "# Fit the LabelEncoder to the bowling_team values from your training data\n",
        "le_venue.fit(X_train['bowling_team_encoded'])\n",
        "model = joblib.load('final_rf_model.pkl')"
      ],
      "metadata": {
        "id": "qTyunbRJFLmy"
      },
      "execution_count": 48,
      "outputs": []
    },
    {
      "cell_type": "code",
      "source": [
        "# ---------------------------\n",
        "# 3. Encode Categorical Variables\n",
        "# Get the original team names that were used during training\n",
        "all_batting_teams = list(label_encoder.classes_)  # Assuming label_encoder was used for initial encoding\n",
        "\n",
        "# Now find the index of the user input team in the original list\n",
        "try:\n",
        "    batting_team_index = all_batting_teams.index(user_input['batting_team'])\n",
        "    batting_team_encoded = le_team.transform([batting_team_index])[0] # Transform the index\n",
        "except ValueError:\n",
        "    # Handle the case where the team is not in the training data\n",
        "    batting_team_encoded = -1  # Or any other appropriate value to indicate an unknown team\n",
        "\n",
        "# Similar approach for bowling_team\n",
        "try:\n",
        "    bowling_team_index = all_batting_teams.index(user_input['bowling_team']) # Use all_batting_teams as it has all the teams\n",
        "    bowling_team_encoded = le_team.transform([bowling_team_index])[0] # Transform the index\n",
        "except ValueError:\n",
        "    # Handle the case where the team is not in the training data\n",
        "    bowling_team_encoded = -1 # Or any other appropriate value to indicate an unknown team\n",
        "\n",
        "# For venue, assuming 'venue_encoded' was used during training:\n",
        "all_venues = list(label_encoder.classes_)  # Assuming label_encoder was also used for venues\n",
        "\n",
        "try:\n",
        "    venue_index = all_venues.index(user_input['venue'])\n",
        "    venue_canonical_encoded = le_venue.transform([venue_index])[0]  # Transform using le_venue\n",
        "except ValueError:\n",
        "    # Handle the case where the venue is not found in training data\n",
        "    venue_canonical_encoded = -1  # Or any other appropriate value to indicate an unknown venue"
      ],
      "metadata": {
        "id": "uXi_KmMKGONf"
      },
      "execution_count": 50,
      "outputs": []
    },
    {
      "cell_type": "code",
      "source": [
        "# ---------------------------\n",
        "# 4. Create Input DataFrame for Inference\n",
        "# ---------------------------\n",
        "# The final features (order matters) are:\n",
        "# ['inning', 'cumulative_runs', 'cumulative_wickets', 'current_run_rate',\n",
        "#  'required_run_rate', 'target_runs', 'batting_team_encoded',\n",
        "#  'bowling_team_encoded', 'venue_encoded']\n",
        "# Use the exact same column names as during training\n",
        "\n",
        "input_data = {\n",
        "    'inning': [user_input['inning']],\n",
        "    'cumulative_runs': [user_input['cum_runs']],  # Changed to 'cumulative_runs'\n",
        "    'cumulative_wickets': [user_input['cum_wickets']], # Changed to 'cumulative_wickets'\n",
        "    'current_run_rate': [current_run_rate],\n",
        "    'required_run_rate': [required_run_rate],\n",
        "    'target_runs': [user_input['target']],  # Changed to 'target_runs'\n",
        "    'batting_team_encoded': [batting_team_encoded],\n",
        "    'bowling_team_encoded': [bowling_team_encoded],\n",
        "    'venue_encoded': [venue_canonical_encoded]  # Changed to 'venue_encoded'\n",
        "}\n",
        "\n",
        "input_df = pd.DataFrame(input_data)"
      ],
      "metadata": {
        "id": "7hSPmEFCJnQg"
      },
      "execution_count": 53,
      "outputs": []
    },
    {
      "cell_type": "code",
      "source": [
        "# ---------------------------\n",
        "# 5. Make Prediction\n",
        "# ---------------------------\n",
        "# The model predicts a binary outcome: 1 indicates the batting team wins, 0 indicates the bowling team wins.\n",
        "prediction = model.predict(input_df)[0]\n",
        "predicted_probabilities = model.predict_proba(input_df)[0]\n",
        "\n",
        "# ---------------------------\n",
        "# 6. Map Prediction to Team Names\n",
        "# ---------------------------\n",
        "if prediction == 1:\n",
        "    predicted_winner = user_input['batting_team']\n",
        "else:\n",
        "    predicted_winner = user_input['bowling_team']\n",
        "\n",
        "print(\"Predicted Winner:\", predicted_winner)\n",
        "print(\"Prediction Probabilities (Loss, Win):\", predicted_probabilities)"
      ],
      "metadata": {
        "id": "aHjhP_dCJrlH",
        "outputId": "8e35304d-0975-4c32-a737-fbe5d872494b",
        "colab": {
          "base_uri": "https://localhost:8080/"
        }
      },
      "execution_count": 54,
      "outputs": [
        {
          "output_type": "stream",
          "name": "stdout",
          "text": [
            "Predicted Winner: Chennai Super Kings\n",
            "Prediction Probabilities (Loss, Win): [0.77 0.23]\n"
          ]
        }
      ]
    }
  ]
}